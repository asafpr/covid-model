{
 "cells": [
  {
   "cell_type": "markdown",
   "metadata": {},
   "source": [
    "# Rt Live Model"
   ]
  },
  {
   "cell_type": "code",
   "execution_count": 1,
   "metadata": {},
   "outputs": [
    {
     "name": "stderr",
     "output_type": "stream",
     "text": [
      "WARNING (theano.configdefaults): install mkl with `conda install mkl-service`: No module named 'mkl'\n",
      "Matplotlib created a temporary config/cache directory at /tmp/matplotlib-hsz7k0__ because the default path (/home/jovyan/.cache/matplotlib) is not a writable directory; it is highly recommended to set the MPLCONFIGDIR environment variable to a writable directory, in particular to speed up the import of Matplotlib and to better support multiprocessing.\n"
     ]
    }
   ],
   "source": [
    "%load_ext autoreload\n",
    "%autoreload 2\n",
    "\n",
    "import pymc3 as pm\n",
    "import pandas as pd\n",
    "import numpy as np\n",
    "import arviz as az\n",
    "import ssl\n",
    "ssl._create_default_https_context = ssl._create_unverified_context\n",
    "from matplotlib import pyplot as plt\n",
    "from covid.models.generative import GenerativeModel\n",
    "from covid.data import summarize_inference_data\n",
    "%config InlineBackend.figure_format = 'retina'\n",
    "\n",
    "from covid.data import get_and_process_covidtracking_data_il, get_and_process_covidtracking_data_ilsev, summarize_inference_data"
   ]
  },
  {
   "cell_type": "markdown",
   "metadata": {},
   "source": [
    "## Fetch data and select the state's data"
   ]
  },
  {
   "cell_type": "code",
   "execution_count": 2,
   "metadata": {},
   "outputs": [],
   "source": [
    "df = get_and_process_covidtracking_data_il(run_date=pd.Timestamp.today())#-pd.Timedelta(days=1))\n",
    "dfunn = get_and_process_covidtracking_data_il(run_date=pd.Timestamp.today(), norm=False)#-pd.Timedelta(days=1))\n",
    "dfsev = get_and_process_covidtracking_data_ilsev(run_date=pd.Timestamp.today()-pd.Timedelta(days=1))"
   ]
  },
  {
   "cell_type": "code",
   "execution_count": null,
   "metadata": {},
   "outputs": [],
   "source": []
  },
  {
   "cell_type": "code",
   "execution_count": 3,
   "metadata": {},
   "outputs": [],
   "source": [
    "region = \"Israel\"\n",
    "model_data = df.loc[region]\n",
    "model_sev = dfsev.loc[region]\n",
    "model_sev_dash = dfunn.loc[region]\n",
    "model_sev_dash['positive'] = model_sev_dash['severe']\n",
    "model_unn = dfunn.loc[region]"
   ]
  },
  {
   "cell_type": "markdown",
   "metadata": {},
   "source": [
    "## Create the model instance and sample"
   ]
  },
  {
   "cell_type": "code",
   "execution_count": null,
   "metadata": {},
   "outputs": [
    {
     "name": "stderr",
     "output_type": "stream",
     "text": [
      "Only 200 samples in chain.\n",
      "Auto-assigning NUTS sampler...\n",
      "Initializing NUTS using jitter+adapt_diag...\n",
      "Multiprocess sampling (4 chains in 4 jobs)\n",
      "NUTS: [alpha, seed, log_r_t]\n"
     ]
    },
    {
     "data": {
      "text/html": [
       "\n",
       "    <div>\n",
       "        <style>\n",
       "            /* Turns off some styling */\n",
       "            progress {\n",
       "                /* gets rid of default border in Firefox and Opera. */\n",
       "                border: none;\n",
       "                /* Needs to be in here for Safari polyfill so background images work as expected. */\n",
       "                background-size: auto;\n",
       "            }\n",
       "            .progress-bar-interrupted, .progress-bar-interrupted::-webkit-progress-bar {\n",
       "                background: #F44336;\n",
       "            }\n",
       "        </style>\n",
       "      <progress value='1154' class='' max='3600' style='width:300px; height:20px; vertical-align: middle;'></progress>\n",
       "      32.06% [1154/3600 10:46<22:50 Sampling 4 chains, 0 divergences]\n",
       "    </div>\n",
       "    "
      ],
      "text/plain": [
       "<IPython.core.display.HTML object>"
      ]
     },
     "metadata": {},
     "output_type": "display_data"
    }
   ],
   "source": [
    "gmsev = GenerativeModel(region, model_sev, buffer_days = 20, delay=2+5, sigma=0.07)\n",
    "gmsev.sample()"
   ]
  },
  {
   "cell_type": "code",
   "execution_count": null,
   "metadata": {},
   "outputs": [],
   "source": [
    "gmsevdash = GenerativeModel(region, model_sev_dash, buffer_days = 20, delay=2+5, sigma=0.07)\n",
    "gmsevdash.sample()"
   ]
  },
  {
   "cell_type": "code",
   "execution_count": null,
   "metadata": {},
   "outputs": [],
   "source": [
    "gmunn = GenerativeModel(region, model_unn, delay=2, sigma=0.07)\n",
    "gmunn.sample()"
   ]
  },
  {
   "cell_type": "markdown",
   "metadata": {},
   "source": [
    "## Summarize Model Output"
   ]
  },
  {
   "cell_type": "code",
   "execution_count": null,
   "metadata": {},
   "outputs": [],
   "source": [
    "resultsev = summarize_inference_data(gmsev.inference_data)\n",
    "resultunn = summarize_inference_data(gmunn.inference_data)\n",
    "resultsevdash = summarize_inference_data(gmsevdash.inference_data)"
   ]
  },
  {
   "cell_type": "code",
   "execution_count": null,
   "metadata": {},
   "outputs": [],
   "source": [
    "resultunn.tail(60)"
   ]
  },
  {
   "cell_type": "code",
   "execution_count": null,
   "metadata": {},
   "outputs": [],
   "source": [
    "resultsev.tail(60)"
   ]
  },
  {
   "cell_type": "code",
   "execution_count": null,
   "metadata": {},
   "outputs": [],
   "source": [
    "resultsevdash.tail(60)"
   ]
  },
  {
   "cell_type": "markdown",
   "metadata": {},
   "source": [
    "## Plot Model Output"
   ]
  },
  {
   "cell_type": "code",
   "execution_count": null,
   "metadata": {},
   "outputs": [],
   "source": [
    "fig, ax = plt.subplots(figsize=(10,5))\n",
    "resultunn.test_adjusted_positive.plot(c=\"g\", label=\"Test-adjusted\")\n",
    "#resultunn.test_adjusted_positive_raw.plot(c=\"g\", alpha=.5, label=\"Test-adjusted (raw)\", style=\"--\")\n",
    "resultunn.infections.plot(c=\"b\", label=\"Infections\")\n",
    "gmunn.observed.positive.plot(c='r', alpha=.7, label=\"Reported Positives\")\n",
    "d = gmunn.observed.deaths * 100\n",
    "d.plot(c='k', alpha=0.5, label=\"Reported deaths (x100)\")\n",
    "plt.yscale(\"log\")\n",
    "fig.set_facecolor('w')\n",
    "ax.legend();"
   ]
  },
  {
   "cell_type": "code",
   "execution_count": null,
   "metadata": {},
   "outputs": [],
   "source": [
    "fig, ax = plt.subplots(figsize=(10,5))\n",
    "resultsev.test_adjusted_positive.plot(c=\"g\", label=\"Test-adjusted\")\n",
    "#resultsev.test_adjusted_positive_raw.plot(c=\"g\", alpha=.5, label=\"Test-adjusted (raw)\", style=\"--\")\n",
    "resultsev.infections.plot(c=\"b\", label=\"Infections\")\n",
    "gmsev.observed.positive.plot(c='r', alpha=.7, label=\"Reported Severe\")\n",
    "fig.set_facecolor('w')\n",
    "plt.yscale(\"log\")\n",
    "ax.legend();"
   ]
  },
  {
   "cell_type": "code",
   "execution_count": null,
   "metadata": {},
   "outputs": [],
   "source": [
    "fig, ax = plt.subplots(figsize=(10,5))\n",
    "resultsevdash.test_adjusted_positive.plot(c=\"g\", label=\"Test-adjusted\")\n",
    "#resultsev.test_adjusted_positive_raw.plot(c=\"g\", alpha=.5, label=\"Test-adjusted (raw)\", style=\"--\")\n",
    "resultsevdash.infections.plot(c=\"b\", label=\"Infections\")\n",
    "gmsevdash.observed.positive.plot(c='r', alpha=.7, label=\"Reported Severe (dashboard)\")\n",
    "fig.set_facecolor('w')\n",
    "ax.legend();"
   ]
  },
  {
   "cell_type": "code",
   "execution_count": null,
   "metadata": {},
   "outputs": [],
   "source": [
    "fig, ax = plt.subplots(figsize=(10,5))\n",
    "\n",
    "ax.set_title(f\"{region} un-normalized $R_t$\")\n",
    "samples = gmunn.trace['r_t']\n",
    "x=resultunn.index\n",
    "cmap = plt.get_cmap(\"Reds\")\n",
    "percs = np.linspace(51, 99, 40)\n",
    "colors = (percs - np.min(percs)) / (np.max(percs) - np.min(percs))\n",
    "samples = samples.T\n",
    "\n",
    "resultunn[\"median\"].plot(c=\"k\", ls='-')\n",
    "\n",
    "for i, p in enumerate(percs[::-1]):\n",
    "    upper = np.percentile(samples, p, axis=1)\n",
    "    lower = np.percentile(samples, 100-p, axis=1)\n",
    "    color_val = colors[i]\n",
    "    ax.fill_between(x, upper, lower, color=cmap(color_val), alpha=.8)\n",
    "\n",
    "ax.axhline(1.0, c=\"k\", lw=1, linestyle=\"--\")\n",
    "ax.set_xlim(right=pd.Timestamp.today()-pd.Timedelta(days=10))\n",
    "#ax.set_xlim(left = pd.Timestamp.today()-pd.Timedelta(days=70), right=pd.Timestamp.today()-pd.Timedelta(days=10))\n",
    "#ax.set_ylim(top = 2)\n",
    "fig.set_facecolor('w')\n",
    "fig.savefig(\"Israel_unnorm_Rt_est.svg\")"
   ]
  },
  {
   "cell_type": "code",
   "execution_count": null,
   "metadata": {},
   "outputs": [],
   "source": [
    "fig, ax = plt.subplots(figsize=(10,5))\n",
    "\n",
    "ax.set_title(f\"{region} severe_new $R_t$\")\n",
    "samples = gmsev.trace['r_t']\n",
    "x=resultsev.index\n",
    "cmap = plt.get_cmap(\"Reds\")\n",
    "percs = np.linspace(51, 99, 40)\n",
    "colors = (percs - np.min(percs)) / (np.max(percs) - np.min(percs))\n",
    "samples = samples.T\n",
    "\n",
    "resultsev[\"median\"].plot(c=\"k\", ls='-')\n",
    "\n",
    "for i, p in enumerate(percs[::-1]):\n",
    "    upper = np.percentile(samples, p, axis=1)\n",
    "    lower = np.percentile(samples, 100-p, axis=1)\n",
    "    color_val = colors[i]\n",
    "    ax.fill_between(x, upper, lower, color=cmap(color_val), alpha=.8)\n",
    "\n",
    "ax.axhline(1.0, c=\"k\", lw=1, linestyle=\"--\")\n",
    "ax.set_xlim(right=pd.Timestamp.today()-pd.Timedelta(days=10))\n",
    "fig.set_facecolor('w')"
   ]
  },
  {
   "cell_type": "code",
   "execution_count": null,
   "metadata": {},
   "outputs": [],
   "source": [
    "fig, ax = plt.subplots(figsize=(10,5))\n",
    "\n",
    "ax.set_title(f\"{region} severe_new (dashboard) $R_t$\")\n",
    "samples = gmsevdash.trace['r_t']\n",
    "x=resultsevdash.index\n",
    "cmap = plt.get_cmap(\"Reds\")\n",
    "percs = np.linspace(51, 99, 40)\n",
    "colors = (percs - np.min(percs)) / (np.max(percs) - np.min(percs))\n",
    "samples = samples.T\n",
    "\n",
    "resultsevdash[\"median\"].plot(c=\"k\", ls='-')\n",
    "\n",
    "for i, p in enumerate(percs[::-1]):\n",
    "    upper = np.percentile(samples, p, axis=1)\n",
    "    lower = np.percentile(samples, 100-p, axis=1)\n",
    "    color_val = colors[i]\n",
    "    ax.fill_between(x, upper, lower, color=cmap(color_val), alpha=.8)\n",
    "\n",
    "ax.axhline(1.0, c=\"k\", lw=1, linestyle=\"--\")\n",
    "ax.set_xlim(right=pd.Timestamp.today()-pd.Timedelta(days=10))\n",
    "fig.set_facecolor('w')"
   ]
  },
  {
   "cell_type": "code",
   "execution_count": null,
   "metadata": {
    "scrolled": true
   },
   "outputs": [],
   "source": [
    "fig, ax = plt.subplots(figsize=(10,5))\n",
    "ax.set_title(f\"$R_t$ estimate\")\n",
    "resultsev[\"median\"].plot(c=\"g\", ls='-', label=\"Rt using new severe cases\")\n",
    "#resultsevdash[\"median\"].plot(c=\"r\", ls='-', label=\"Rt using new severe cases from dashboard\")\n",
    "resultunn[\"median\"].plot(c=\"b\", ls='-', label=\"Rt using infected\")\n",
    "ax.axhline(1.0, c=\"k\", lw=1, linestyle=\"--\")\n",
    "ax.set_xlim(right=pd.Timestamp.today()-pd.Timedelta(days=10))\n",
    "ax.legend()"
   ]
  },
  {
   "cell_type": "code",
   "execution_count": null,
   "metadata": {},
   "outputs": [],
   "source": [
    "resultunn.to_csv(\"results_unnormalized_out.csv\")"
   ]
  },
  {
   "cell_type": "code",
   "execution_count": null,
   "metadata": {},
   "outputs": [],
   "source": [
    "fig, ax = plt.subplots(figsize=(10,5))\n",
    "\n",
    "ax.set_title(f\"{region} un-normalized $R_t$\")\n",
    "samples = gmunn.trace['r_t']\n",
    "x=resultunn.index\n",
    "cmap = plt.get_cmap(\"Reds\")\n",
    "ax.fill_between(x, resultunn[\"upper_80\"], resultunn[\"lower_80\"], color=cmap(50), alpha=.8)\n",
    "resultunn[\"median\"].plot(c=cmap(90), ls='-', label=\"Rt using infected\")\n",
    "ax.axhline(1.0, c=\"k\", lw=1, linestyle=\"--\")\n",
    "ax.set_xlim(right=pd.Timestamp.today()-pd.Timedelta(days=10))\n",
    "#ax.set_xlim(left = pd.Timestamp.today()-pd.Timedelta(days=70), right=pd.Timestamp.today()-pd.Timedelta(days=10))\n",
    "#ax.set_ylim(top = 2)\n",
    "fig.set_facecolor('w')\n",
    "plt.grid(which='major', axis='y', ls=':')\n",
    "fig.savefig(\"Israel_unnorm_Rt_est.svg\")"
   ]
  },
  {
   "cell_type": "code",
   "execution_count": null,
   "metadata": {
    "scrolled": true
   },
   "outputs": [],
   "source": [
    "fig, ax = plt.subplots(figsize=(10,5))\n",
    "resultunn.test_adjusted_positive.plot(c=\"g\", label=\"Test-adjusted\")\n",
    "#resultunn.test_adjusted_positive_raw.plot(c=\"g\", alpha=.5, label=\"Test-adjusted (raw)\", style=\"--\")\n",
    "resultunn.infections.plot(c=\"b\", label=\"Infections\")\n",
    "gmunn.observed.positive.plot(c='r', alpha=.7, label=\"Reported Positives\")\n",
    "d = gmunn.observed.deaths * 100\n",
    "d.plot(c='k', alpha=0.5, label=\"Reported deaths (x100)\")\n",
    "#plt.yscale(\"log\")\n",
    "ax.set_xlim(left = pd.Timestamp.today()-pd.Timedelta(days=70))\n",
    "fig.set_facecolor('w')\n",
    "ax.legend();"
   ]
  },
  {
   "cell_type": "code",
   "execution_count": null,
   "metadata": {},
   "outputs": [],
   "source": []
  }
 ],
 "metadata": {
  "kernelspec": {
   "display_name": "Python 3",
   "language": "python",
   "name": "python3"
  },
  "language_info": {
   "codemirror_mode": {
    "name": "ipython",
    "version": 3
   },
   "file_extension": ".py",
   "mimetype": "text/x-python",
   "name": "python",
   "nbconvert_exporter": "python",
   "pygments_lexer": "ipython3",
   "version": "3.8.6"
  }
 },
 "nbformat": 4,
 "nbformat_minor": 4
}
