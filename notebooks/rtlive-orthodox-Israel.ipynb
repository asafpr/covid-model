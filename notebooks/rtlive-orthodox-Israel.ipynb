{
 "cells": [
  {
   "cell_type": "markdown",
   "metadata": {},
   "source": [
    "# Compute Rt for Haredim cities (Bnei-Brak, Elad, Modiin-Ilit, Beitar-Ilit)"
   ]
  },
  {
   "cell_type": "code",
   "execution_count": 1,
   "metadata": {},
   "outputs": [
    {
     "name": "stderr",
     "output_type": "stream",
     "text": [
      "WARNING (theano.configdefaults): install mkl with `conda install mkl-service`: No module named 'mkl'\n",
      "Matplotlib created a temporary config/cache directory at /tmp/matplotlib-2z99fy7p because the default path (/home/jovyan/.cache/matplotlib) is not a writable directory; it is highly recommended to set the MPLCONFIGDIR environment variable to a writable directory, in particular to speed up the import of Matplotlib and to better support multiprocessing.\n"
     ]
    }
   ],
   "source": [
    "%load_ext autoreload\n",
    "%autoreload 2\n",
    "\n",
    "import pymc3 as pm\n",
    "import pandas as pd\n",
    "import numpy as np\n",
    "import arviz as az\n",
    "import ssl\n",
    "ssl._create_default_https_context = ssl._create_unverified_context\n",
    "from matplotlib import pyplot as plt\n",
    "from covid.models.generative import GenerativeModel\n",
    "from covid.data import summarize_inference_data\n",
    "%config InlineBackend.figure_format = 'retina'\n",
    "\n",
    "from covid.data import get_and_process_covidtracking_data_il, get_and_process_covidtracking_data_ilsev, summarize_inference_data"
   ]
  },
  {
   "cell_type": "code",
   "execution_count": null,
   "metadata": {},
   "outputs": [
    {
     "name": "stderr",
     "output_type": "stream",
     "text": [
      "Only 200 samples in chain.\n",
      "Auto-assigning NUTS sampler...\n",
      "Initializing NUTS using jitter+adapt_diag...\n",
      "Multiprocess sampling (4 chains in 4 jobs)\n",
      "NUTS: [alpha, seed, log_r_t]\n"
     ]
    },
    {
     "data": {
      "text/html": [
       "\n",
       "    <div>\n",
       "        <style>\n",
       "            /* Turns off some styling */\n",
       "            progress {\n",
       "                /* gets rid of default border in Firefox and Opera. */\n",
       "                border: none;\n",
       "                /* Needs to be in here for Safari polyfill so background images work as expected. */\n",
       "                background-size: auto;\n",
       "            }\n",
       "            .progress-bar-interrupted, .progress-bar-interrupted::-webkit-progress-bar {\n",
       "                background: #F44336;\n",
       "            }\n",
       "        </style>\n",
       "      <progress value='2282' class='' max='3600' style='width:300px; height:20px; vertical-align: middle;'></progress>\n",
       "      63.39% [2282/3600 15:40<09:03 Sampling 4 chains, 0 divergences]\n",
       "    </div>\n",
       "    "
      ],
      "text/plain": [
       "<IPython.core.display.HTML object>"
      ]
     },
     "metadata": {},
     "output_type": "display_data"
    }
   ],
   "source": [
    "dfcit = get_and_process_covidtracking_data_il(run_date=pd.Timestamp.today(), norm=False, cities=True)\n",
    "bb = ['6100', '3780', '3797', '1309', '1137']\n",
    "model_bb = dfcit.loc[bb].groupby('date').sum()\n",
    "gmbb = GenerativeModel(bb, model_bb, buffer_days = 10, delay=2, sigma=0.07)\n",
    "gmbb.sample()"
   ]
  },
  {
   "cell_type": "code",
   "execution_count": null,
   "metadata": {},
   "outputs": [],
   "source": [
    "resultbb = summarize_inference_data(gmbb.inference_data)\n",
    "\n",
    "fig, ax = plt.subplots(figsize=(10,5))\n",
    "ax.set_title(\"Haredi population\")\n",
    "resultbb.test_adjusted_positive.plot(c=\"g\", label=\"Test-adjusted\")\n",
    "#resultbb.test_adjusted_positive_raw.plot(c=\"g\", alpha=.5, label=\"Test-adjusted (raw)\", style=\"--\")\n",
    "resultbb.infections.plot(c=\"b\", label=\"Infections\")\n",
    "gmbb.observed.positive.plot(c='r', alpha=.7, label=\"Reported Positives\")\n",
    "#d = gmbb.observed.deaths * 100\n",
    "#d.plot(c='k', alpha=0.5, label=\"Reported deaths (x100)\")\n",
    "fig.set_facecolor('w')\n",
    "plt.yscale(\"log\")\n",
    "ax.legend();"
   ]
  },
  {
   "cell_type": "code",
   "execution_count": null,
   "metadata": {},
   "outputs": [],
   "source": [
    "fig, ax = plt.subplots(figsize=(10,5))\n",
    "\n",
    "ax.set_title(f\"Haredi $R_t$\")\n",
    "samples = gmbb.trace['r_t']\n",
    "x=resultbb.index\n",
    "cmap = plt.get_cmap(\"Reds\")\n",
    "percs = np.linspace(51, 99, 40)\n",
    "colors = (percs - np.min(percs)) / (np.max(percs) - np.min(percs))\n",
    "samples = samples.T\n",
    "\n",
    "resultbb[\"median\"].plot(c=\"k\", ls='-')\n",
    "\n",
    "for i, p in enumerate(percs[::-1]):\n",
    "    upper = np.percentile(samples, p, axis=1)\n",
    "    lower = np.percentile(samples, 100-p, axis=1)\n",
    "    color_val = colors[i]\n",
    "    ax.fill_between(x, upper, lower, color=cmap(color_val), alpha=.8)\n",
    "\n",
    "ax.axhline(1.0, c=\"k\", lw=1, linestyle=\"--\")\n",
    "ax.set_xlim(right=pd.Timestamp.today()-pd.Timedelta(days=10))\n",
    "fig.set_facecolor('w')"
   ]
  },
  {
   "cell_type": "code",
   "execution_count": null,
   "metadata": {},
   "outputs": [],
   "source": [
    "resultbb.tail(60)"
   ]
  },
  {
   "cell_type": "markdown",
   "metadata": {},
   "source": [
    "# General population"
   ]
  },
  {
   "cell_type": "code",
   "execution_count": null,
   "metadata": {},
   "outputs": [],
   "source": [
    "gn = ['5000', '8400', '8300', '1139', '2800', '9000', '2600', '6500', '6600', '6200', '9500']\n",
    "model_gn = dfcit.loc[gn].groupby('date').sum()\n",
    "gmgn = GenerativeModel(gn, model_gn, buffer_days = 10, delay=2, sigma=0.07)\n",
    "gmgn.sample()"
   ]
  },
  {
   "cell_type": "code",
   "execution_count": null,
   "metadata": {},
   "outputs": [],
   "source": [
    "resultgn = summarize_inference_data(gmgn.inference_data)\n",
    "\n",
    "fig, ax = plt.subplots(figsize=(10,5))\n",
    "ax.set_title(\"General sector\")\n",
    "resultgn.test_adjusted_positive.plot(c=\"g\", label=\"Test-adjusted\")\n",
    "#resultgn.test_adjusted_positive_raw.plot(c=\"g\", alpha=.5, label=\"Test-adjusted (raw)\", style=\"--\")\n",
    "resultgn.infections.plot(c=\"b\", label=\"Infections\")\n",
    "gmgn.observed.positive.plot(c='r', alpha=.7, label=\"Reported Positives\")\n",
    "#d = gmgn.observed.deaths * 100\n",
    "#d.plot(c='k', alpha=0.5, label=\"Reported deaths (x100)\")\n",
    "fig.set_facecolor('w')\n",
    "plt.yscale(\"log\")\n",
    "ax.legend();"
   ]
  },
  {
   "cell_type": "code",
   "execution_count": null,
   "metadata": {},
   "outputs": [],
   "source": [
    "fig, ax = plt.subplots(figsize=(10,5))\n",
    "\n",
    "ax.set_title(f\"General sector $R_t$\")\n",
    "samples = gmgn.trace['r_t']\n",
    "x=resultgn.index\n",
    "cmap = plt.get_cmap(\"Reds\")\n",
    "percs = np.linspace(51, 99, 40)\n",
    "colors = (percs - np.min(percs)) / (np.max(percs) - np.min(percs))\n",
    "samples = samples.T\n",
    "\n",
    "resultgn[\"median\"].plot(c=\"k\", ls='-')\n",
    "\n",
    "for i, p in enumerate(percs[::-1]):\n",
    "    upper = np.percentile(samples, p, axis=1)\n",
    "    lower = np.percentile(samples, 100-p, axis=1)\n",
    "    color_val = colors[i]\n",
    "    ax.fill_between(x, upper, lower, color=cmap(color_val), alpha=.8)\n",
    "\n",
    "ax.axhline(1.0, c=\"k\", lw=1, linestyle=\"--\")\n",
    "ax.set_xlim(right=pd.Timestamp.today()-pd.Timedelta(days=10))\n",
    "fig.set_facecolor('w')"
   ]
  },
  {
   "cell_type": "code",
   "execution_count": null,
   "metadata": {},
   "outputs": [],
   "source": [
    "resultgn.tail(60)"
   ]
  },
  {
   "cell_type": "markdown",
   "metadata": {},
   "source": [
    "# Arab cities"
   ]
  },
  {
   "cell_type": "code",
   "execution_count": null,
   "metadata": {},
   "outputs": [],
   "source": [
    "ar = ['472', '2710', '6000', '2730', '2720', '8900', '509', '634', '7300', '7500', '531', '637', '638', '543', '8800']\n",
    "model_ar = dfcit.loc[ar].groupby('date').sum()\n",
    "gmar = GenerativeModel(ar, model_ar, buffer_days = 10, delay=2, sigma=0.07)\n",
    "gmar.sample()"
   ]
  },
  {
   "cell_type": "code",
   "execution_count": null,
   "metadata": {},
   "outputs": [],
   "source": [
    "resultar = summarize_inference_data(gmar.inference_data)\n",
    "\n",
    "fig, ax = plt.subplots(figsize=(10,5))\n",
    "ax.set_title(\"Arab population\")\n",
    "resultar.test_adjusted_positive.plot(c=\"g\", label=\"Test-adjusted\")\n",
    "#resultar.test_adjusted_positive_raw.plot(c=\"g\", alpha=.5, label=\"Test-adjusted (raw)\", style=\"--\")\n",
    "resultar.infections.plot(c=\"b\", label=\"Infections\")\n",
    "gmar.observed.positive.plot(c='r', alpha=.7, label=\"Reported Positives\")\n",
    "plt.yscale(\"log\")\n",
    "fig.set_facecolor('w')\n",
    "ax.legend();"
   ]
  },
  {
   "cell_type": "code",
   "execution_count": null,
   "metadata": {},
   "outputs": [],
   "source": [
    "fig, ax = plt.subplots(figsize=(10,5))\n",
    "\n",
    "ax.set_title(f\"Arab population $R_t$\")\n",
    "samples = gmar.trace['r_t']\n",
    "x=resultar.index\n",
    "cmap = plt.get_cmap(\"Reds\")\n",
    "percs = np.linspace(51, 99, 40)\n",
    "colors = (percs - np.min(percs)) / (np.max(percs) - np.min(percs))\n",
    "samples = samples.T\n",
    "\n",
    "resultar[\"median\"].plot(c=\"k\", ls='-')\n",
    "\n",
    "for i, p in enumerate(percs[::-1]):\n",
    "    upper = np.percentile(samples, p, axis=1)\n",
    "    lower = np.percentile(samples, 100-p, axis=1)\n",
    "    color_val = colors[i]\n",
    "    ax.fill_between(x, upper, lower, color=cmap(color_val), alpha=.8)\n",
    "\n",
    "ax.axhline(1.0, c=\"k\", lw=1, linestyle=\"--\")\n",
    "ax.set_xlim(right=pd.Timestamp.today()-pd.Timedelta(days=10))\n",
    "fig.set_facecolor('w')"
   ]
  },
  {
   "cell_type": "code",
   "execution_count": null,
   "metadata": {},
   "outputs": [],
   "source": [
    "resultar.tail(60)"
   ]
  },
  {
   "cell_type": "code",
   "execution_count": null,
   "metadata": {},
   "outputs": [],
   "source": [
    "jr = ['3000']\n",
    "model_jr = dfcit.loc[jr].groupby('date').sum()\n",
    "gmjr = GenerativeModel(jr, model_jr, buffer_days = 10, delay=2)\n",
    "gmjr.sample()"
   ]
  },
  {
   "cell_type": "code",
   "execution_count": null,
   "metadata": {},
   "outputs": [],
   "source": [
    "resultjr = summarize_inference_data(gmjr.inference_data)\n",
    "\n",
    "fig, ax = plt.subplots(figsize=(10,5))\n",
    "ax.set_title(\"Jerusalem\")\n",
    "resultjr.test_adjusted_positive.plot(c=\"g\", label=\"Test-adjusted\")\n",
    "#resultjr.test_adjusted_positive_raw.plot(c=\"g\", alpha=.5, label=\"Test-adjusted (raw)\", style=\"--\")\n",
    "resultjr.infections.plot(c=\"b\", label=\"Infections\")\n",
    "gmjr.observed.positive.plot(c='r', alpha=.7, label=\"Reported Positives\")\n",
    "d = gmjr.observed.deaths * 100\n",
    "#d.plot(c='k', alpha=0.5, label=\"Reported deaths (x100)\")\n",
    "plt.yscale(\"log\")\n",
    "fig.set_facecolor('w')\n",
    "ax.legend();"
   ]
  },
  {
   "cell_type": "code",
   "execution_count": null,
   "metadata": {},
   "outputs": [],
   "source": [
    "fig, ax = plt.subplots(figsize=(10,5))\n",
    "\n",
    "ax.set_title(f\"Jerusalem $R_t$\")\n",
    "samples = gmjr.trace['r_t']\n",
    "x=resultjr.index\n",
    "cmap = plt.get_cmap(\"Reds\")\n",
    "percs = np.linspace(51, 99, 40)\n",
    "colors = (percs - np.min(percs)) / (np.max(percs) - np.min(percs))\n",
    "samples = samples.T\n",
    "\n",
    "resultjr[\"median\"].plot(c=\"k\", ls='-')\n",
    "\n",
    "for i, p in enumerate(percs[::-1]):\n",
    "    upper = np.percentile(samples, p, axis=1)\n",
    "    lower = np.percentile(samples, 100-p, axis=1)\n",
    "    color_val = colors[i]\n",
    "    ax.fill_between(x, upper, lower, color=cmap(color_val), alpha=.8)\n",
    "\n",
    "ax.axhline(1.0, c=\"k\", lw=1, linestyle=\"--\")\n",
    "ax.set_xlim(right=pd.Timestamp.today()-pd.Timedelta(days=10))\n",
    "fig.set_facecolor('w')"
   ]
  },
  {
   "cell_type": "code",
   "execution_count": null,
   "metadata": {},
   "outputs": [],
   "source": [
    "resultjr.tail(60)"
   ]
  },
  {
   "cell_type": "code",
   "execution_count": null,
   "metadata": {},
   "outputs": [],
   "source": [
    "fig, ax = plt.subplots(figsize=(10,5))\n",
    "ax.set_title(f\"$R_t$ estimate\")\n",
    "resultar[\"median\"].plot(c=\"g\", ls='-', label=\"Arab sector\")\n",
    "resultgn[\"median\"].plot(c=\"b\", ls='-', label=\"General sector\")\n",
    "resultbb[\"median\"].plot(c=\"m\", ls='-', label=\"Haredi sector\")\n",
    "resultjr[\"median\"].plot(c=\"c\", ls='-', label=\"Jerusalem\")\n",
    "ax.axhline(1.0, c=\"k\", lw=1, linestyle=\"--\")\n",
    "ax.set_xlim(right=pd.Timestamp.today()-pd.Timedelta(days=10))\n",
    "ax.legend()"
   ]
  },
  {
   "cell_type": "code",
   "execution_count": null,
   "metadata": {},
   "outputs": [],
   "source": [
    "resultar.to_csv(\"results_arab_cities_out.csv\")\n",
    "resultbb.to_csv(\"results_haredi_cities_out.csv\")\n",
    "resultgn.to_csv(\"results_general_cities_out.csv\")\n",
    "resultjr.to_csv(\"results_jerusalem_out.csv\")"
   ]
  },
  {
   "cell_type": "code",
   "execution_count": null,
   "metadata": {
    "scrolled": true
   },
   "outputs": [],
   "source": [
    "gush = [\"3604\", \"3618\", \"3650\", \"3794\", \"3603\", \"3488\", \"3561\", \"3653\", \"3725\", \"3726\", \"1982\", \"1981\", \"3781\", \"3602\", \"3563\"]\n",
    "gush = set(gush) & set(list(dfcit.index.unique(0)))\n",
    "print(gush)\n",
    "model_gs = dfcit.loc[gush].groupby('date').sum()\n",
    "gmgs = GenerativeModel(gush, model_gs, buffer_days = 10, delay=2, sigma=0.07)\n",
    "gmgs.sample()\n",
    "\n",
    "resultgs = summarize_inference_data(gmgs.inference_data)\n",
    "\n",
    "fig, ax = plt.subplots(figsize=(10,5))\n",
    "ax.set_title(\"Gush Etsion\")\n",
    "resultgs.test_adjusted_positive.plot(c=\"g\", label=\"Test-adjusted\")\n",
    "#resultbb.test_adjusted_positive_raw.plot(c=\"g\", alpha=.5, label=\"Test-adjusted (raw)\", style=\"--\")\n",
    "resultgs.infections.plot(c=\"b\", label=\"Infections\")\n",
    "gmgs.observed.positive.plot(c='r', alpha=.7, label=\"Reported Positives\")\n",
    "#d = gmbb.observed.deaths * 100\n",
    "#d.plot(c='k', alpha=0.5, label=\"Reported deaths (x100)\")\n",
    "fig.set_facecolor('w')\n",
    "#plt.yscale(\"log\")\n",
    "ax.legend();"
   ]
  },
  {
   "cell_type": "code",
   "execution_count": null,
   "metadata": {},
   "outputs": [],
   "source": [
    "fig, ax = plt.subplots(figsize=(10,5))\n",
    "\n",
    "ax.set_title(f\"Gush Etsion $R_t$\")\n",
    "samples = gmgs.trace['r_t']\n",
    "x=resultgs.index\n",
    "colmap = plt.get_cmap(\"Reds\")\n",
    "ax.fill_between(x, resultgs[\"upper_80\"], resultgs[\"lower_80\"], color=colmap(50), alpha=.8)\n",
    "resultgs[\"median\"].plot(c=colmap(90), ls='-', label=\"Rt using infected\")\n",
    "ax.axhline(1.0, c=\"k\", lw=1, linestyle=\"--\")\n",
    "ax.set_xlim(right=pd.Timestamp.today()-pd.Timedelta(days=10))\n",
    "fig.set_facecolor('w')\n",
    "plt.grid(which='major', axis='y', ls=':')\n"
   ]
  },
  {
   "cell_type": "code",
   "execution_count": null,
   "metadata": {},
   "outputs": [],
   "source": []
  }
 ],
 "metadata": {
  "kernelspec": {
   "display_name": "Python 3",
   "language": "python",
   "name": "python3"
  },
  "language_info": {
   "codemirror_mode": {
    "name": "ipython",
    "version": 3
   },
   "file_extension": ".py",
   "mimetype": "text/x-python",
   "name": "python",
   "nbconvert_exporter": "python",
   "pygments_lexer": "ipython3",
   "version": "3.8.6"
  }
 },
 "nbformat": 4,
 "nbformat_minor": 4
}
